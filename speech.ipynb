{
 "metadata": {
  "language_info": {
   "codemirror_mode": {
    "name": "ipython",
    "version": 3
   },
   "file_extension": ".py",
   "mimetype": "text/x-python",
   "name": "python",
   "nbconvert_exporter": "python",
   "pygments_lexer": "ipython3",
   "version": "3.8.5-final"
  },
  "orig_nbformat": 2,
  "kernelspec": {
   "name": "Python 3.8.5 64-bit ('ml': conda)",
   "display_name": "Python 3.8.5 64-bit ('ml': conda)",
   "metadata": {
    "interpreter": {
     "hash": "a46a7326da725c74d0abad1997cb2210958481e119d745833634a7937449cffa"
    }
   }
  }
 },
 "nbformat": 4,
 "nbformat_minor": 2,
 "cells": [
  {
   "cell_type": "code",
   "execution_count": 3,
   "metadata": {},
   "outputs": [
    {
     "output_type": "stream",
     "name": "stdout",
     "text": [
      "Imageio: 'ffmpeg-osx-v3.2.4' was not found on your computer; downloading it now.\n",
      "Try 1. Download from https://github.com/imageio/imageio-binaries/raw/master/ffmpeg/ffmpeg-osx-v3.2.4 (33.8 MB)\n",
      "Downloading: 8192/35458856 bytes (0.016384/35458856 bytes (0.0%57344/35458856 bytes (0.2%114688/35458856 bytes (0.3180224/35458856 bytes (0.5237568/35458856 bytes (0.7303104/35458856 bytes (0.9360448/35458856 bytes (1.0425984/35458856 bytes (1.2491520/35458856 bytes (1.4565248/35458856 bytes (1.6638976/35458856 bytes (1.8688128/35458856 bytes (1.9761856/35458856 bytes (2.1827392/35458856 bytes (2.3884736/35458856 bytes (2.5942080/35458856 bytes (2.7999424/35458856 bytes (2.81024000/35458856 bytes (2.9%1073152/35458856 bytes (3.0%1155072/35458856 bytes (3.3%1236992/35458856 bytes (3.5%1318912/35458856 bytes (3.7%1400832/35458856 bytes (4.0%1441792/35458856 bytes (4.1%1499136/35458856 bytes (4.2%1572864/35458856 bytes (4.4%1589248/35458856 bytes (4.5%1720320/35458856 bytes (4.9%1785856/35458856 bytes (5.0%1810432/35458856 bytes (5.1%1941504/35458856 bytes (5.5%2023424/35458856 bytes (5.7%2105344/35458856 bytes (5.9%2179072/35458856 bytes (6.1%2260992/35458856 bytes (6.4%2351104/35458856 bytes (6.6%2433024/35458856 bytes (6.9%2523136/35458856 bytes (7.1%2605056/35458856 bytes (7.3%2703360/35458856 bytes (7.6%2777088/35458856 bytes (7.8%2850816/35458856 bytes (8.0%2932736/35458856 bytes (8.3%3014656/35458856 bytes (8.5%3096576/35458856 bytes (8.7%3178496/35458856 bytes (9.0%3203072/35458856 bytes (9.0%3383296/35458856 bytes (9.5%3457024/35458856 bytes (9.7%3522560/35458856 bytes (9.9%3612672/35458856 bytes (10.23670016/35458856 bytes (10.43751936/35458856 bytes (10.63842048/35458856 bytes (10.83932160/35458856 bytes (11.14022272/35458856 bytes (11.34120576/35458856 bytes (11.64202496/35458856 bytes (11.94284416/35458856 bytes (12.14382720/35458856 bytes (12.44472832/35458856 bytes (12.64554752/35458856 bytes (12.84653056/35458856 bytes (13.14734976/35458856 bytes (13.44816896/35458856 bytes (13.64898816/35458856 bytes (13.84997120/35458856 bytes (14.15095424/35458856 bytes (14.45193728/35458856 bytes (14.65292032/35458856 bytes (14.95373952/35458856 bytes (15.25455872/35458856 bytes (15.45554176/35458856 bytes (15.75652480/35458856 bytes (15.95750784/35458856 bytes (16.25849088/35458856 bytes (16.55931008/35458856 bytes (16.76029312/35458856 bytes (17.06127616/35458856 bytes (17.36225920/35458856 bytes (17.66307840/35458856 bytes (17.86406144/35458856 bytes (18.16504448/35458856 bytes (18.36586368/35458856 bytes (18.66668288/35458856 bytes (18.86750208/35458856 bytes (19.06881280/35458856 bytes (19.46963200/35458856 bytes (19.67061504/35458856 bytes (19.97176192/35458856 bytes (20.27258112/35458856 bytes (20.57356416/35458856 bytes (20.77372800/35458856 bytes (20.87503872/35458856 bytes (21.27602176/35458856 bytes (21.47716864/35458856 bytes (21.87815168/35458856 bytes (22.07913472/35458856 bytes (22.38011776/35458856 bytes (22.68093696/35458856 bytes (22.88192000/35458856 bytes (23.18290304/35458856 bytes (23.48388608/35458856 bytes (23.78486912/35458856 bytes (23.98568832/35458856 bytes (24.28667136/35458856 bytes (24.48781824/35458856 bytes (24.88871936/35458856 bytes (25.08962048/35458856 bytes (25.38994816/35458856 bytes (25.49175040/35458856 bytes (25.910059776/35458856 bytes (28.4%10141696/35458856 bytes (28.6%10223616/35458856 bytes (28.8%10305536/35458856 bytes (29.1%10387456/35458856 bytes (29.3%10469376/35458856 bytes (29.5%10567680/35458856 bytes (29.8%10665984/35458856 bytes (30.1%10747904/35458856 bytes (30.3%10829824/35458856 bytes (30.5%10928128/35458856 bytes (30.8%11026432/35458856 bytes (31.1%11124736/35458856 bytes (31.4%11223040/35458856 bytes (31.7%11304960/35458856 bytes (31.9%11403264/35458856 bytes (32.2%11501568/35458856 bytes (32.4%11599872/35458856 bytes (32.7%11698176/35458856 bytes (33.0%11796480/35458856 bytes (33.3%11886592/35458856 bytes (33.5%11976704/35458856 bytes (33.8%12075008/35458856 bytes (34.1%12156928/35458856 bytes (34.3%12255232/35458856 bytes (34.6%12320768/35458856 bytes (34.7%12419072/35458856 bytes (35.0%12517376/35458856 bytes (35.3%12599296/35458856 bytes (35.5%12697600/35458856 bytes (35.8%12779520/35458856 bytes (36.0%12877824/35458856 bytes (36.3%12959744/35458856 bytes (36.5%13058048/35458856 bytes (36.8%13156352/35458856 bytes (37.1%13238272/35458856 bytes (37.3%13271040/35458856 bytes (37.4%14123008/35458856 bytes (39.8%14221312/35458856 bytes (40.1%14319616/35458856 bytes (40.4%14417920/35458856 bytes (40.7%14499840/35458856 bytes (40.9%14598144/35458856 bytes (41.2%14696448/35458856 bytes (41.4%14794752/35458856 bytes (41.7%14876672/35458856 bytes (42.0%14942208/35458856 bytes (42.1%15024128/35458856 bytes (42.4%15138816/35458856 bytes (42.7%15204352/35458856 bytes (42.9%15286272/35458856 bytes (43.1%15368192/35458856 bytes (43.3%15450112/35458856 bytes (43.6%15499264/35458856 bytes (43.7%15548416/35458856 bytes (43.8%15597568/35458856 bytes (44.0%15663104/35458856 bytes (44.2%15745024/35458856 bytes (44.4%15826944/35458856 bytes (44.6%15925248/35458856 bytes (44.9%16023552/35458856 bytes (45.2%16105472/35458856 bytes (45.4%16187392/35458856 bytes (45.7%16269312/35458856 bytes (45.9%16351232/35458856 bytes (46.1%16433152/35458856 bytes (46.3%16515072/35458856 bytes (46.6%16613376/35458856 bytes (46.9%16695296/35458856 bytes (47.1%16777216/35458856 bytes (47.3%16859136/35458856 bytes (47.5%16941056/35458856 bytes (47.8%17022976/35458856 bytes (48.0%17104896/35458856 bytes (48.2%17203200/35458856 bytes (48.5%17285120/35458856 bytes (48.7%17367040/35458856 bytes (49.0%17465344/35458856 bytes (49.3%17563648/35458856 bytes (49.5%17645568/35458856 bytes (49.8%17727488/35458856 bytes (50.0%17809408/35458856 bytes (50.2%17891328/35458856 bytes (50.5%17973248/35458856 bytes (50.7%18038784/35458856 bytes (50.9%18120704/35458856 bytes (51.1%18202624/35458856 bytes (51.3%18284544/35458856 bytes (51.6%18366464/35458856 bytes (51.8%18432000/35458856 bytes (52.0%18513920/35458856 bytes (52.2%18595840/35458856 bytes (52.4%18677760/35458856 bytes (52.7%18759680/35458856 bytes (52.9%18825216/35458856 bytes (53.1%18907136/35458856 bytes (53.3%18989056/35458856 bytes (53.6%19054592/35458856 bytes (53.7%19136512/35458856 bytes (54.0%19234816/35458856 bytes (54.2%19316736/35458856 bytes (54.5%19398656/35458856 bytes (54.7%19464192/35458856 bytes (54.9%19529728/35458856 bytes (55.1%19595264/35458856 bytes (55.3%19660800/35458856 bytes (55.4%19742720/35458856 bytes (55.7%19841024/35458856 bytes (56.0%19922944/35458856 bytes (56.2%20004864/35458856 bytes (56.4%20086784/35458856 bytes (56.6%20152320/35458856 bytes (56.8%20267008/35458856 bytes (57.2%20332544/35458856 bytes (57.3%20414464/35458856 bytes (57.6%20496384/35458856 bytes (57.8%20578304/35458856 bytes (58.0%20660224/35458856 bytes (58.3%20725760/35458856 bytes (58.5%20824064/35458856 bytes (58.7%20905984/35458856 bytes (59.0%20987904/35458856 bytes (59.2%21069824/35458856 bytes (59.4%21168128/35458856 bytes (59.7%21233664/35458856 bytes (59.9%21315584/35458856 bytes (60.1%21397504/35458856 bytes (60.3%21479424/35458856 bytes (60.6%21544960/35458856 bytes (60.8%21610496/35458856 bytes (60.9%21692416/35458856 bytes (61.2%21774336/35458856 bytes (61.4%21856256/35458856 bytes (61.6%21938176/35458856 bytes (61.9%22020096/35458856 bytes (62.1%22102016/35458856 bytes (62.3%22183936/35458856 bytes (62.6%22249472/35458856 bytes (62.7%22331392/35458856 bytes (63.0%22396928/35458856 bytes (63.2%22528000/35458856 bytes (63.5%22626304/35458856 bytes (63.8%22724608/35458856 bytes (64.1%22822912/35458856 bytes (64.4%22888448/35458856 bytes (64.5%23003136/35458856 bytes (64.9%23101440/35458856 bytes (65.1%23199744/35458856 bytes (65.4%24051712/35458856 bytes (67.8%24133632/35458856 bytes (68.1%24215552/35458856 bytes (68.3%24313856/35458856 bytes (68.6%24395776/35458856 bytes (68.8%24477696/35458856 bytes (69.0%24559616/35458856 bytes (69.3%24641536/35458856 bytes (69.5%24723456/35458856 bytes (69.7%24805376/35458856 bytes (70.0%24887296/35458856 bytes (70.2%24920064/35458856 bytes (70.3%25051136/35458856 bytes (70.6%25133056/35458856 bytes (70.9%25214976/35458856 bytes (71.1%25296896/35458856 bytes (71.3%25378816/35458856 bytes (71.6%25460736/35458856 bytes (71.8%25542656/35458856 bytes (72.0%25624576/35458856 bytes (72.3%25706496/35458856 bytes (72.5%25772032/35458856 bytes (72.7%25870336/35458856 bytes (73.0%25935872/35458856 bytes (73.1%26017792/35458856 bytes (73.4%26099712/35458856 bytes (73.6%26165248/35458856 bytes (73.8%26247168/35458856 bytes (74.0%26312704/35458856 bytes (74.2%26345472/35458856 bytes (74.3%26476544/35458856 bytes (74.7%26542080/35458856 bytes (74.9%26566656/35458856 bytes (74.9%26681344/35458856 bytes (75.2%26738688/35458856 bytes (75.4%26886144/35458856 bytes (75.8%26984448/35458856 bytes (76.1%27066368/35458856 bytes (76.3%27148288/35458856 bytes (76.6%27230208/35458856 bytes (76.8%27312128/35458856 bytes (77.0%27394048/35458856 bytes (77.3%27475968/35458856 bytes (77.5%27557888/35458856 bytes (77.7%27607040/35458856 bytes (77.9%28418048/35458856 bytes (80.1%28491776/35458856 bytes (80.4%28573696/35458856 bytes (80.6%28639232/35458856 bytes (80.8%28753920/35458856 bytes (81.1%28835840/35458856 bytes (81.3%28934144/35458856 bytes (81.6%29032448/35458856 bytes (81.9%29114368/35458856 bytes (82.1%29212672/35458856 bytes (82.4%29310976/35458856 bytes (82.7%29409280/35458856 bytes (82.9%29491200/35458856 bytes (83.2%29605888/35458856 bytes (83.5%29704192/35458856 bytes (83.8%29769728/35458856 bytes (84.0%29868032/35458856 bytes (84.2%29949952/35458856 bytes (84.5%30031872/35458856 bytes (84.7%30130176/35458856 bytes (85.0%30220288/35458856 bytes (85.2%30310400/35458856 bytes (85.5%30392320/35458856 bytes (85.7%30490624/35458856 bytes (86.0%30588928/35458856 bytes (86.3%30687232/35458856 bytes (86.5%30785536/35458856 bytes (86.8%30883840/35458856 bytes (87.1%30982144/35458856 bytes (87.4%31080448/35458856 bytes (87.7%31178752/35458856 bytes (87.9%31260672/35458856 bytes (88.2%31342592/35458856 bytes (88.4%31424512/35458856 bytes (88.6%31506432/35458856 bytes (88.9%31588352/35458856 bytes (89.1%31686656/35458856 bytes (89.4%31768576/35458856 bytes (89.6%31850496/35458856 bytes (89.8%31948800/35458856 bytes (90.1%32030720/35458856 bytes (90.3%32112640/35458856 bytes (90.6%32178176/35458856 bytes (90.7%32260096/35458856 bytes (91.0%32342016/35458856 bytes (91.2%32423936/35458856 bytes (91.4%32505856/35458856 bytes (91.7%32571392/35458856 bytes (91.9%32653312/35458856 bytes (92.1%32735232/35458856 bytes (92.3%32833536/35458856 bytes (92.6%32915456/35458856 bytes (92.8%32997376/35458856 bytes (93.1%33079296/35458856 bytes (93.3%33112064/35458856 bytes (93.4%33259520/35458856 bytes (93.8%33341440/35458856 bytes (94.0%33423360/35458856 bytes (94.3%33505280/35458856 bytes (94.5%33579008/35458856 bytes (94.7%33652736/35458856 bytes (94.9%33734656/35458856 bytes (95.1%33832960/35458856 bytes (95.4%33914880/35458856 bytes (95.6%33996800/35458856 bytes (95.9%34078720/35458856 bytes (96.1%34144256/35458856 bytes (96.3%34201600/35458856 bytes (96.5%34258944/35458856 bytes (96.6%34324480/35458856 bytes (96.8%34406400/35458856 bytes (97.0%34488320/35458856 bytes (97.3%34570240/35458856 bytes (97.5%34635776/35458856 bytes (97.7%34701312/35458856 bytes (97.9%34783232/35458856 bytes (98.1%34865152/35458856 bytes (98.3%34963456/35458856 bytes (98.6%35061760/35458856 bytes (98.9%35110912/35458856 bytes (99.0%35176448/35458856 bytes (99.2%35241984/35458856 bytes (99.4%35307520/35458856 bytes (99.6%35373056/35458856 bytes (99.8%35422208/35458856 bytes (99.9%35458856/35458856 bytes (100.0%)\n",
      "  Done\n",
      "File saved as /Users/r.k.shyamgurunath/Library/Application Support/imageio/ffmpeg/ffmpeg-osx-v3.2.4.\n"
     ]
    }
   ],
   "source": [
    "import speech_recognition as sr \n",
    "import moviepy.editor as mp\n"
   ]
  },
  {
   "cell_type": "code",
   "execution_count": 4,
   "metadata": {},
   "outputs": [],
   "source": [
    "clip = mp.VideoFileClip(r\"Speech on Importance of Education in English - Click How.mp4\")"
   ]
  },
  {
   "cell_type": "code",
   "execution_count": 5,
   "metadata": {},
   "outputs": [
    {
     "output_type": "stream",
     "name": "stdout",
     "text": [
      "[MoviePy] Writing audio in converted.wav\n",
      "100%|██████████| 4136/4136 [00:03<00:00, 1350.07it/s][MoviePy] Done.\n",
      "\n"
     ]
    }
   ],
   "source": [
    "clip.audio.write_audiofile(r\"converted.wav\")"
   ]
  },
  {
   "cell_type": "code",
   "execution_count": 6,
   "metadata": {},
   "outputs": [],
   "source": [
    "r = sr.Recognizer()"
   ]
  },
  {
   "cell_type": "code",
   "execution_count": 7,
   "metadata": {},
   "outputs": [],
   "source": [
    "audio = sr.AudioFile(\"converted.wav\")"
   ]
  },
  {
   "cell_type": "code",
   "execution_count": 8,
   "metadata": {},
   "outputs": [],
   "source": [
    "with audio as source:\n",
    "    audio_file = r.record(source)\n",
    "\n",
    "result = r.recognize_google(audio_file)"
   ]
  },
  {
   "cell_type": "code",
   "execution_count": 10,
   "metadata": {},
   "outputs": [
    {
     "output_type": "stream",
     "name": "stdout",
     "text": [
      "ready!!\n"
     ]
    }
   ],
   "source": [
    "with open(\"reconozed_text.txt\",'w') as file:\n",
    "    file.write(\"Reconinzed_text: \")\n",
    "    file.write(\"\\n\")\n",
    "    file.write(result)\n",
    "    file.close()\n",
    "    print('ready!!') "
   ]
  },
  {
   "cell_type": "code",
   "execution_count": 11,
   "metadata": {},
   "outputs": [],
   "source": [
    "txt = open(\"/Users/r.k.shyamgurunath/Dropbox/My Mac (R.K.Shyam’s MacBook Air)/Desktop/Jupyter/Learning Julia/reconozed_text.txt\")"
   ]
  },
  {
   "cell_type": "code",
   "execution_count": 16,
   "metadata": {},
   "outputs": [
    {
     "output_type": "execute_result",
     "data": {
      "text/plain": [
       "'Reconinzed_text: \\ngood morning to the excellencies Mein respected teachers and my dear friends I would like to stitch for the importance of education good and proper education place a great role in shaping our future and professional career it helps us to develop personality and a recognition and respect to the family and Society we can say that education is socially and personally and essential part of the human life we cannot ignore the importance of education in our life at any cost as we see daily in the society lots of social issues this because of the lack of proper education social issues like any quality gender discrimination religious differences and so many problems are there because of the lack of education in our life proper education helps us to maintain the personal and social standards in daily life the more knowledge we get we grow and develop more in life being well educated 11 the news to on certificates and good salary from the recognised and reputed organisation companies or Institutions however it also means to be a good and social person in life it helps us to determine whether something is good or bad for us and other person related to us the first purpose of getting good education is being good citizen and then being successful in personal and professional life we are an complete without a good education because education makes this right thinker and correct decision maker is a competitive world education has become a necessity for human beings after food clothing and shelter it is able to provide solutions to all the problems it promotes good habits and awareness about corruption terrorism and other social issues Among Us education is the only key to success in person and professional life education provides various types of knowledge and skills it is a continuous flow and Secure uses of learning which helps in obtaining knowledge it is a continuous process which starts when you take the birth and ends in our life ends will learn to become a good person lunch 11 home society community and friend circle attending school and receiving education is extremely wide record every person and necessary for those who want to achieve success in same manner as the same planet however do not get same opportunity receives the type of formal education which may lead every one of us towards success because of lack of money and knowledge of the parents one who get proper education become admired by the members of the family community and country proper education my all bring equality among human beings and remove the feeling of difference education not only makes is able to learn about History science maths geography and other subjects however it makes a smart enough to learn how to live life and handlebar situations thank you'"
      ]
     },
     "metadata": {},
     "execution_count": 16
    }
   ],
   "source": [
    "txt.seek(0)\n",
    "txt.read()"
   ]
  },
  {
   "cell_type": "code",
   "execution_count": null,
   "metadata": {},
   "outputs": [],
   "source": []
  },
  {
   "cell_type": "code",
   "execution_count": null,
   "metadata": {},
   "outputs": [],
   "source": []
  }
 ]
}